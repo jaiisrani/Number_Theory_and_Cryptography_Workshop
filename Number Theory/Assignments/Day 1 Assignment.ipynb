{
 "cells": [
  {
   "cell_type": "markdown",
   "metadata": {
    "deletable": false,
    "editable": false,
    "nbgrader": {
     "cell_type": "markdown",
     "checksum": "d338e69de43fbe09fb1ab544c51d015c",
     "grade": false,
     "grade_id": "question-statement-1",
     "locked": true,
     "schema_version": 3,
     "solution": false,
     "task": false
    }
   },
   "source": [
    "1. In this problem, you need to implement a function which calculates the $GCD$ of two numbers $(a, b)$ using the **Extended Euclid's Algorithm**. *(3 points)*\n",
    "* It returns three values of the form $(d, x, y)$ where $d = GCD(a, b)$ and $(x, y)$ are two integers such that $d = ax + by$. It is given that $a \\geq b \\geq 0$ and at least one of them is non-zero. \n",
    "* Note that you are not allowed to remove any of the assertions from the template code. Doing so will result in a score of 0 for this problem, and this is applicable for all problems where the template code has some assertions. You should just implement your solution in the space provided. There is no need to change anything in the template.\n",
    "\n",
    "Obviously, you can refer to slides or any other material on the internet, but you should implement the algorithm yourself. This will make you really think about the algorithm and related things, like whether there are any edge cases which you need to consider, etc. Only when you do this, will you truly remember the algorithm and take something away from this workshop. Otherwise, this will just become another thing that you think you know well which'll fade away from memory after a day or two."
   ]
  },
  {
   "cell_type": "code",
   "execution_count": null,
   "metadata": {
    "deletable": false,
    "nbgrader": {
     "cell_type": "code",
     "checksum": "4c238ba40b115230a1752269571601c8",
     "grade": false,
     "grade_id": "extended-gcd",
     "locked": false,
     "schema_version": 3,
     "solution": true,
     "task": false
    }
   },
   "outputs": [],
   "source": [
    "def extended_gcd(a, b):\n",
    "    assert a >= b and b >= 0 and a + b > 0    # An assert statement just stops the code execution if any of \n",
    "                                              # its conditions are false\n",
    "    \n",
    "    d, x, y = 0, 0, 0\n",
    "    \n",
    "    # YOUR CODE HERE\n",
    "    raise NotImplementedError()\n",
    " \n",
    "    assert a % d == 0 and b % d == 0\n",
    "    assert d == a * x + b * y\n",
    "    return (d, x, y)"
   ]
  },
  {
   "cell_type": "code",
   "execution_count": null,
   "metadata": {
    "deletable": false,
    "editable": false,
    "nbgrader": {
     "cell_type": "code",
     "checksum": "71eec33a937990a1d10faf0169e26b68",
     "grade": true,
     "grade_id": "extended-gcd-tests",
     "locked": true,
     "points": 3,
     "schema_version": 3,
     "solution": false,
     "task": false
    }
   },
   "outputs": [],
   "source": [
    "print(extended_gcd(8, 4))\n",
    "print(extended_gcd(27, 15))"
   ]
  },
  {
   "cell_type": "markdown",
   "metadata": {
    "deletable": false,
    "editable": false,
    "nbgrader": {
     "cell_type": "markdown",
     "checksum": "a9639bde024af02f2e0ff9c140622a1e",
     "grade": false,
     "grade_id": "question-statement-2",
     "locked": true,
     "schema_version": 3,
     "solution": false,
     "task": false
    }
   },
   "source": [
    "2. Now that you know a connection between $GCD$ and $LCM$, write an efficient algorithm for finding the least common multiple of two **positive** integers. *(1 point)*\n",
    "* Your function should return the $LCM$ of $(a, b)$"
   ]
  },
  {
   "cell_type": "code",
   "execution_count": null,
   "metadata": {
    "deletable": false,
    "nbgrader": {
     "cell_type": "code",
     "checksum": "ebf5848ce5a86667b7f6c038f9448297",
     "grade": false,
     "grade_id": "lcm",
     "locked": false,
     "schema_version": 3,
     "solution": true,
     "task": false
    }
   },
   "outputs": [],
   "source": [
    "def lcm(a, b):\n",
    "    # YOUR CODE HERE\n",
    "    raise NotImplementedError()"
   ]
  },
  {
   "cell_type": "code",
   "execution_count": null,
   "metadata": {
    "deletable": false,
    "editable": false,
    "nbgrader": {
     "cell_type": "code",
     "checksum": "bcf3256743fca83a47bd9dea8121e47f",
     "grade": true,
     "grade_id": "lcm-tests",
     "locked": true,
     "points": 1,
     "schema_version": 3,
     "solution": false,
     "task": false
    }
   },
   "outputs": [],
   "source": [
    "assert lcm(9, 3) == 9\n",
    "assert lcm(17, 37) == 629"
   ]
  },
  {
   "cell_type": "markdown",
   "metadata": {
    "deletable": false,
    "editable": false,
    "nbgrader": {
     "cell_type": "markdown",
     "checksum": "30e85e4e27dd80889862f0411a0f0215",
     "grade": false,
     "grade_id": "question-statement-3",
     "locked": true,
     "schema_version": 3,
     "solution": false,
     "task": false
    }
   },
   "source": [
    "3. Now, try to use extended Euclid's algorithm to solve Diophantine equations efficiently. *(3 points)* \n",
    "\n",
    "Given three numbers $a > 0$, $b > 0$, and $c$, the algorithm should return some $x$ and $y$ such that $ax + by = c$. It is given that a solution to the above equation exists for given $a, b ,c$. \n",
    "(Again, you are not allowed to remove any assertions from the template.)"
   ]
  },
  {
   "cell_type": "code",
   "execution_count": null,
   "metadata": {
    "deletable": false,
    "nbgrader": {
     "cell_type": "code",
     "checksum": "bae563c938c48251221565250b31e26b",
     "grade": false,
     "grade_id": "diophantine",
     "locked": false,
     "schema_version": 3,
     "solution": true,
     "task": false
    }
   },
   "outputs": [],
   "source": [
    "def diophantine(a, b, c):\n",
    "    # first calculate the GCD of a, b and store it in the gcd variable declared below: you can use the extended_gcd\n",
    "    # function from the first question for this\n",
    "    \n",
    "    gcd = 0\n",
    "    \n",
    "    # then, implement your solution to calculate x, y\n",
    "    \n",
    "    x, y = 0, 0\n",
    "    \n",
    "    # YOUR CODE HERE\n",
    "    raise NotImplementedError()\n",
    "    \n",
    "    assert c % gcd == 0\n",
    "    assert a * x + b * y == c\n",
    "    \n",
    "    return (x, y)"
   ]
  },
  {
   "cell_type": "code",
   "execution_count": null,
   "metadata": {
    "deletable": false,
    "editable": false,
    "nbgrader": {
     "cell_type": "code",
     "checksum": "78cf55811e642f7a2401e567a8a841a2",
     "grade": true,
     "grade_id": "diophantine-tests",
     "locked": true,
     "points": 3,
     "schema_version": 3,
     "solution": false,
     "task": false
    }
   },
   "outputs": [],
   "source": [
    "print(diophantine(34, 51, 170))\n",
    "print(diophantine(91, 117, 65))"
   ]
  },
  {
   "cell_type": "markdown",
   "metadata": {
    "deletable": false,
    "editable": false,
    "nbgrader": {
     "cell_type": "markdown",
     "checksum": "0866f1696fa82cbcec153c95d7fa3863",
     "grade": false,
     "grade_id": "question-statement-4",
     "locked": true,
     "schema_version": 3,
     "solution": false,
     "task": false
    }
   },
   "source": [
    "4. Now that you know how to use extended Euclid's algorithm for finding modular inverses, implement an efficient algorithm for dividing $b$ by $a$ modulo $n$. *(4 points)*\n",
    "\n",
    "Given three integers $a$, $b$, and $n$, such that $GCD(a, n) = 1$ and $n > 1$, the algorithm should return an integer $x$ such that \n",
    "\n",
    "$0 \\leq x \\leq n-1$, and \n",
    "\n",
    "$b  /  a = x \\pmod{n}$ ( that is, $b = ax \\pmod{n}$ ).\n",
    "In particular, your task is to calculate the multiplicative inverse of $a \\pmod{n}$."
   ]
  },
  {
   "cell_type": "code",
   "execution_count": null,
   "metadata": {
    "deletable": false,
    "nbgrader": {
     "cell_type": "code",
     "checksum": "cd74264a15852d34b87b89d9cc3cd758",
     "grade": false,
     "grade_id": "mod-inverse",
     "locked": false,
     "schema_version": 3,
     "solution": true,
     "task": false
    }
   },
   "outputs": [],
   "source": [
    "def modInverse(a, n) : \n",
    "    \"\"\"Calculate the multiplicative inverse of a (mod n)\"\"\"\n",
    "    \n",
    "    # YOUR CODE HERE\n",
    "    raise NotImplementedError()\n",
    "    \n",
    "def divide(b, a, n):\n",
    "    assert n > 1 and a > 0 # and gcd(a, n) == 1\n",
    "    \n",
    "    aInv = modInverse(a,n)\n",
    "    \n",
    "    assert (a * aInv) % n == 1\n",
    "    \n",
    "    # return the number x s.t. a*x = b (mod n) and 0 <= x <= n-1.\n",
    "    return (aInv * b) % n"
   ]
  },
  {
   "cell_type": "code",
   "execution_count": null,
   "metadata": {
    "deletable": false,
    "editable": false,
    "nbgrader": {
     "cell_type": "code",
     "checksum": "71937f10abfc026cc47172fbbb98f935",
     "grade": true,
     "grade_id": "mod-inverse-tests",
     "locked": true,
     "points": 4,
     "schema_version": 3,
     "solution": false,
     "task": false
    }
   },
   "outputs": [],
   "source": [
    "print(divide(9, 5, 3))\n",
    "print(divide(223, 67, 54))"
   ]
  },
  {
   "cell_type": "markdown",
   "metadata": {
    "deletable": false,
    "editable": false,
    "nbgrader": {
     "cell_type": "markdown",
     "checksum": "740fe2d4454b46840e17064b543e5be9",
     "grade": false,
     "grade_id": "question-statement-5",
     "locked": true,
     "schema_version": 3,
     "solution": false,
     "task": false
    }
   },
   "source": [
    "5. Implement the function ***FastModularExponentiation(b, e, m)*** which computes $b^e \\bmod{m}$ using  around $2\\log_2{e}$ modular multiplications. You are not allowed to use Python built-in exponentiation functions. *(3 points)*"
   ]
  },
  {
   "cell_type": "code",
   "execution_count": null,
   "metadata": {
    "deletable": false,
    "nbgrader": {
     "cell_type": "code",
     "checksum": "d3ffed19c8edc558190baa723afdcc10",
     "grade": false,
     "grade_id": "fast-modular-exp",
     "locked": false,
     "schema_version": 3,
     "solution": true,
     "task": false
    }
   },
   "outputs": [],
   "source": [
    "def FastModularExponentiation(b, e, m):\n",
    "    \n",
    "    # YOUR CODE HERE\n",
    "    raise NotImplementedError()"
   ]
  },
  {
   "cell_type": "code",
   "execution_count": null,
   "metadata": {
    "deletable": false,
    "editable": false,
    "nbgrader": {
     "cell_type": "code",
     "checksum": "91dd94eb616c325fd9835d34dc434838",
     "grade": true,
     "grade_id": "fast-modular-exp-tests",
     "locked": true,
     "points": 3,
     "schema_version": 3,
     "solution": false,
     "task": false
    }
   },
   "outputs": [],
   "source": [
    "print(FastModularExponentiation(4, 5, 3))"
   ]
  },
  {
   "cell_type": "markdown",
   "metadata": {
    "deletable": false,
    "editable": false,
    "nbgrader": {
     "cell_type": "markdown",
     "checksum": "214c867be9395ade817a6aa6ef34209e",
     "grade": false,
     "grade_id": "question-statement-6",
     "locked": true,
     "schema_version": 3,
     "solution": false,
     "task": false
    }
   },
   "source": [
    "6. Implement the algorithm to construct the number from the Chinese Remainder Theorem. *(1 point)*\n",
    "\n",
    "You need to implement the function *ChineseRemainderTheorem( $ n_1, r_1, n_2, r_2 $ )* which takes two distinct coprime numbers $n_1$ and $n_2$ $( n_1 > n_2 )$ and the respective remainders $0 \\leq r_1 < n_1$ and $0 \\leq r_2  < n_2$, and returns the number $r$ such that $0 \\leq r < n_1n_2$, $r \\equiv r_1 \\bmod{n_1}$ and $r \\equiv r_2 \\bmod{n_2}$."
   ]
  },
  {
   "cell_type": "code",
   "execution_count": null,
   "metadata": {
    "deletable": false,
    "nbgrader": {
     "cell_type": "code",
     "checksum": "532ef7e6373ba8800b3682c6e4675f7f",
     "grade": false,
     "grade_id": "chinese-rem-thm",
     "locked": false,
     "schema_version": 3,
     "solution": true,
     "task": false
    }
   },
   "outputs": [],
   "source": [
    "def ChineseRemainderTheorem(n1, r1, n2, r2):\n",
    "    \n",
    "    # if you have implemented extended_gcd correctly, x and y should be two integers such that \n",
    "    # n1*x + n2*y = gcd(n1, n2). Now use these two integers to return a proper answer.\n",
    "    # make sure that you have run the extended_gcd function before running this cell\n",
    "    (d, x, y) = extended_gcd(n1, n2) \n",
    "    \n",
    "    assert d == 1\n",
    "    \n",
    "    # YOUR CODE HERE\n",
    "    raise NotImplementedError()"
   ]
  },
  {
   "cell_type": "code",
   "execution_count": null,
   "metadata": {
    "deletable": false,
    "editable": false,
    "nbgrader": {
     "cell_type": "code",
     "checksum": "83a24af91769845d192973e5dd082a91",
     "grade": true,
     "grade_id": "chinese-rem-thm-tests",
     "locked": true,
     "points": 1,
     "schema_version": 3,
     "solution": false,
     "task": false
    }
   },
   "outputs": [],
   "source": [
    "print(ChineseRemainderTheorem(13, 7, 6, 5)) # 59\n",
    "print(ChineseRemainderTheorem(28, 20, 19, 3)) # 440"
   ]
  }
 ],
 "metadata": {
  "kernelspec": {
   "display_name": "Python 3",
   "language": "python",
   "name": "python3"
  },
  "language_info": {
   "codemirror_mode": {
    "name": "ipython",
    "version": 3
   },
   "file_extension": ".py",
   "mimetype": "text/x-python",
   "name": "python",
   "nbconvert_exporter": "python",
   "pygments_lexer": "ipython3",
   "version": "3.8.3"
  }
 },
 "nbformat": 4,
 "nbformat_minor": 4
}
