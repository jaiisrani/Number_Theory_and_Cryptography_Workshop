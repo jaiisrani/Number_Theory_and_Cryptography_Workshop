{
 "cells": [
  {
   "cell_type": "markdown",
   "metadata": {},
   "source": [
    "# *Many-Time* Pad\n",
    "\n",
    "This demo notebook shows examples of One-time Pad encryption and partial decryption of the messages when the **same key** is used more than once for encryption.\n",
    "\n",
    "Before using the XOR operation, we are going to convert plaintext messages to *hex strings*. This way, each character is represented by its [*ASCII*](https://en.wikipedia.org/wiki/ASCII) code - a number from 0 to 255. In the *hexadecimal* system, any such number has two digits. We write these two hexadecimal digits instead of the initial character, like \"6f\" instead of letter \"o\" (o is represented by 111 in ASCII), where 'f' corresponds to hexadecimal number 15. We can also convert back from hex strings to the regular strings. These conversions are needed for demonstration purposes only: to avoid using unreadable/invisible characters in the strings we work with."
   ]
  },
  {
   "cell_type": "code",
   "execution_count": null,
   "metadata": {},
   "outputs": [],
   "source": [
    "from functools import *\n",
    "\n",
    "# Converts string to hex\n",
    "def toHex(s):\n",
    "    lst = []\n",
    "    for ch in s:\n",
    "        hv = hex(ord(ch)).replace('0x', '')\n",
    "        if len(hv) == 1:\n",
    "            hv = '0'+hv\n",
    "        lst.append(hv)\n",
    "    \n",
    "    return reduce(lambda x,y:x+y, lst)\n",
    "\n",
    "print(\"toHex(\\\"Hello World\\\") = \\\"%s\\\"\" % toHex(\"Hello World\"))\n",
    "\n",
    "# Converts hex to string\n",
    "def toStr(s):\n",
    "    return s and chr(int(s[:2], base=16)) + toStr(s[2:]) or ''\n",
    "\n",
    "print(\"toStr(\\\"736f6d65206d657373616765\\\") = \\\"%s\\\"\" % toStr(\"736f6d65206d657373616765\"))"
   ]
  },
  {
   "cell_type": "code",
   "execution_count": null,
   "metadata": {},
   "outputs": [],
   "source": [
    "# Computes XOR of two messages s1 and s2.\n",
    "# s1 and s2 must have the same length.\n",
    "def Xor(s1, s2):\n",
    "    res = \"\"\n",
    "    for i in range(len(s1)):\n",
    "        res += format(int(s1[i], 16) ^ int(s2[i], 16), '01x')\n",
    "    return res"
   ]
  },
  {
   "cell_type": "markdown",
   "metadata": {},
   "source": [
    "To encrypt, we need to XOR the message with the key and get the ciphertext. However, before doing that we are going to convert them both to hex strings. To decrypt, we need to xor the ciphertext with the key. However, before doing that we need to convert key to hex, and after doing that we need to convert the resulting hex string to the regular string, so that we get the initial message and not its hex form."
   ]
  },
  {
   "cell_type": "code",
   "execution_count": null,
   "metadata": {},
   "outputs": [],
   "source": [
    "message = \"secret message\"\n",
    "key     = \"my secret keys\"\n",
    "print(\"hex(message) = %s\" % toHex(message))\n",
    "print(\"hex(key) = %s\" % toHex(key))\n",
    "ciphertext = Xor(toHex(message), toHex(key))\n",
    "print(\"ciphertext: %s\" % ciphertext)\n",
    "recovered_message = toStr(Xor(ciphertext, toHex(key)))\n",
    "print(\"recovered message: %s\" % recovered_message)"
   ]
  },
  {
   "cell_type": "markdown",
   "metadata": {},
   "source": [
    "Now let's see what happens if the same key is used to encrypt two different messages:"
   ]
  },
  {
   "cell_type": "code",
   "execution_count": null,
   "metadata": {},
   "outputs": [],
   "source": [
    "message1 = \"steal the secret\"\n",
    "message2 = \"the cat the bird\"\n",
    "key      = \"supersecretverys\"\n",
    "ciphertext1 = Xor(toHex(message1), toHex(key))\n",
    "ciphertext2 = Xor(toHex(message2), toHex(key))\n",
    "xor_ciphertexts = Xor(ciphertext1, ciphertext2)\n",
    "xor_messages = Xor(toHex(message1), toHex(message2))\n",
    "print(xor_ciphertexts)\n",
    "print(xor_messages)\n",
    "if xor_ciphertexts == xor_messages:\n",
    "    print(\"XOR of the ciphertexts is the same as XOR of messages\")\n",
    "else:\n",
    "    print(\"XOR of the ciphertexts differs from the XOR of messages\")"
   ]
  },
  {
   "cell_type": "markdown",
   "metadata": {},
   "source": [
    "Now you see that even if Eve doesn't know the key and the messages and intercepts just the ciphertexts,\n",
    "she can compute the XOR of the ciphertexts and get the same result as if she computed the XOR of the initial messages!\n",
    "\n",
    "How does this help?\n",
    "\n",
    "We can do some frequency analysis on the English Language. The simplest example is the following.\n",
    "We know that English sentences often contain the word \" the \" delimited by spaces on both sides. Let's try\n",
    "to \"guess\" that one of the messages contains this word \" the \" starting from position 1, 2, 3,... and so on.\n",
    "If our guess is correct, and message1 indeed contains word \" the \" starting from some position, then by\n",
    "XORing this \" the \" with the corresponding positions of the xor_ciphertexts we will get some English letters\n",
    "in the corresponding positions of message2. If our guess is incorrect, we will get just some rubbish."
   ]
  },
  {
   "cell_type": "code",
   "execution_count": null,
   "metadata": {},
   "outputs": [],
   "source": [
    "def TryGuessingSubstring(substring, message_length, xor_messages):\n",
    "    good_guesses = []\n",
    "    for pos in range(message_length - len(substring) + 1):\n",
    "        guess = toHex(chr(0) * pos + substring + chr(0) * (message_length - len(substring) - pos))\n",
    "        other_message_part = toStr(Xor(guess, xor_messages))[pos:pos + len(substring)]\n",
    "        good_guess = True\n",
    "        for i in range(len(other_message_part)):\n",
    "            if not other_message_part[i].isalpha() and not other_message_part[i].isspace():\n",
    "                good_guess = False\n",
    "                break\n",
    "        if good_guess:\n",
    "            good_guesses.append((guess, pos, other_message_part))\n",
    "        \n",
    "    print(\"\\nGood guesses:\")\n",
    "    for guess in good_guesses:\n",
    "        print(\"position: %d, one message part: \\\"%s\\\", another message part: \\\"%s\\\"\" % (guess[1], substring, guess[2]))\n",
    "        \n",
    "TryGuessingSubstring(\" the \", len(message1), xor_messages)"
   ]
  },
  {
   "cell_type": "markdown",
   "metadata": {},
   "source": [
    "Now we can see that one of the messages has \"at th\" starting from position 5, or \" th\" starting from position 7, and one of the messages has \" the \" startin from position 7. We could guess that this is the same message which has \"at the \" starting from position 5."
   ]
  },
  {
   "cell_type": "code",
   "execution_count": null,
   "metadata": {},
   "outputs": [],
   "source": [
    "TryGuessingSubstring(\"at the \", len(message1), xor_messages)"
   ]
  },
  {
   "cell_type": "markdown",
   "metadata": {},
   "source": [
    "Now we've guessed parts of both initial messages. If we had even more ciphertexts of different messages encypted with the same key, by XORing each pair the same way we could reconstruct more parts of the message"
   ]
  }
 ],
 "metadata": {
  "kernelspec": {
   "display_name": "Python 3",
   "language": "python",
   "name": "python3"
  },
  "language_info": {
   "codemirror_mode": {
    "name": "ipython",
    "version": 3
   },
   "file_extension": ".py",
   "mimetype": "text/x-python",
   "name": "python",
   "nbconvert_exporter": "python",
   "pygments_lexer": "ipython3",
   "version": "3.7.6"
  }
 },
 "nbformat": 4,
 "nbformat_minor": 4
}
