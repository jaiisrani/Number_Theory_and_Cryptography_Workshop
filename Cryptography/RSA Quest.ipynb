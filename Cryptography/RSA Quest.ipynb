{
 "cells": [
  {
   "cell_type": "markdown",
   "metadata": {},
   "source": [
    "# RSA Cryptography Quest\n",
    "\n",
    "This notebook will walk you through the cryptographic quest we've created for you! \n",
    "\n",
    "You're going to solve a series of puzzles - The first few will lead you to a secret link containing more puzzles and instructions, then you'll get another link, and so on. In the end, you will get **the final answer**. You'll earn points for solving some parts of this quest. And to do so, you will need to submit the information you get in this notebook in the Google Form (for assignments) that we will float soon.\n",
    "\n",
    "You won't need to do any extensive programming or guesswork in this notebook. If you've solved some of the questions in the previous assignments, you'll need to copy the code of your solutions to the corresponding functions in this notebook, launch the corresponding parts of the notebook and get the keys. You will be able to get some points even if you didn't solve all the questions in the assignments!"
   ]
  },
  {
   "cell_type": "markdown",
   "metadata": {},
   "source": [
    "And the first puzzle is based on the second question of the \"RSA Assignment\". In the next part of the notebook, copy the code of your correct implementation of the function Decrypt in that question, then run the corresponding parts of the notebook to get the first part of secret link."
   ]
  },
  {
   "cell_type": "code",
   "execution_count": null,
   "metadata": {},
   "outputs": [],
   "source": [
    "import sys, threading\n",
    "\n",
    "sys.setrecursionlimit(10**7)\n",
    "threading.stack_size(2**27)\n",
    "\n",
    "def ConvertToInt(message_str):\n",
    "  res = 0\n",
    "  for i in range(len(message_str)):\n",
    "    res = res * 256 + ord(message_str[i])\n",
    "  return res\n",
    "\n",
    "def ConvertToStr(n):\n",
    "    res = \"\"\n",
    "    while n > 0:\n",
    "        res += chr(n % 256)\n",
    "        n //= 256\n",
    "    return res[::-1]\n",
    "\n",
    "def PowMod(a, n, mod):\n",
    "    # Insert code for the function PowMod(a, n, modulo) which computes a^n mod modulo using the fast modular exponentiation algorithm from Day 1\n",
    "\n",
    "def ExtendedEuclid(a, b):\n",
    "    # Insert code for the Extended Euclid Algorithm from Day 1\n",
    "\n",
    "def InvertModulo(a, n):\n",
    "    (b, x) = ExtendedEuclid(a, n)\n",
    "    # Insert code for the function InvertModulo(a, n) from Day 1\n",
    "\n",
    "def Decrypt(ciphertext, p, q, exponent):\n",
    "    # Insert code for the function Decrypt(ciphertext, p, q, exponent) from Day 3's Assignment\n",
    "\n",
    "p = 779849711281\n",
    "q = 748173698927\n",
    "e = 1018651\n",
    "ciphertext = 148784435264686331994392\n",
    "decrypt_first_puzzle = Decrypt(ciphertext, p, q, e)\n",
    "print(decrypt_first_puzzle)"
   ]
  },
  {
   "cell_type": "markdown",
   "metadata": {},
   "source": [
    "The second puzzle is based on the first and third questions of the \"RSA Assignment\". Here, you need to substitute your implementation of the function \"Encrypt\" from question 1 and substitute your implementation of the function \"DecipherSimple\" from the question 3 of the \"RSA Assignment\" to get the second part of the secret link."
   ]
  },
  {
   "cell_type": "code",
   "execution_count": null,
   "metadata": {},
   "outputs": [],
   "source": [
    "def Encrypt(message, modulo, exponent):\n",
    "    a = ConvertToInt(message)\n",
    "    # Insert code for the function Encrypt(message, modulo, exponent) from Day 3's Assignment\n",
    "\n",
    "def DecipherSimple(ciphertext, modulo, exponent, potential_messages):\n",
    "  # Insert code for the function DecipherSimple(ciphertetxt, module, exponent, potential_messages) from Day 3's Assignment\n",
    "\n",
    "ciphertext = 336184023047118677086739\n",
    "modulo = 1110014195838866450995043\n",
    "exponent = 767549\n",
    "potential_messages = [\"http://goo.gl/\", \"http://bit.ly/\", \"http://tinyurl.com/\", \"http://t.co/\", \"http://ow.ly/\", \"https://is.gd/\", \"https://buff.ly/\", \"http://adf.ly/\", \"http://bit.do/\"]\n",
    "decrypt_second_puzzle = DecipherSimple(ciphertext, modulo, exponent, potential_messages)\n",
    "print decrypt_second_puzzle"
   ]
  },
  {
   "cell_type": "markdown",
   "metadata": {},
   "source": [
    "Now you're ready to construct the secret link. Just run the next part of the notebook to get it. Then follow the link to get more instructions."
   ]
  },
  {
   "cell_type": "code",
   "execution_count": null,
   "metadata": {},
   "outputs": [],
   "source": [
    "secret_link = decrypt_second_puzzle + decrypt_first_puzzle\n",
    "print(secret_link)"
   ]
  },
  {
   "cell_type": "markdown",
   "metadata": {},
   "source": [
    "Substitute the implementation of the function \"DecipherSmallPrime\" below with your implementation from \"RSA Assignment\", question 4. Also, insert the values for the ciphertext, modulo and exponent from the secret document. Then launch to get the first part of the next secret link."
   ]
  },
  {
   "cell_type": "code",
   "execution_count": null,
   "metadata": {},
   "outputs": [],
   "source": [
    "def DecipherSmallPrime(ciphertext, modulo, exponent):  \n",
    "  # Insert code for the function DecipherSmallPrime(ciphertext, modulo, exponent) from Day 3's Assignment\n",
    "\n",
    "ciphertext = \n",
    "modulo = \n",
    "exponent = \n",
    "decrypt_third_puzzle = DecipherSmallPrime(ciphertext, modulo, exponent)\n",
    "print(decrypt_third_puzzle)"
   ]
  },
  {
   "cell_type": "markdown",
   "metadata": {},
   "source": [
    "Substitute the implementation of the function \"DecipherSmallDiff\" below with your implementation from \"RSA Assignment\", question 5. Also, insert the values for the ciphertext, modulo and exponent from the secret document. Then launch to get the second part of the next secret link."
   ]
  },
  {
   "cell_type": "code",
   "execution_count": null,
   "metadata": {},
   "outputs": [],
   "source": [
    "def IntSqrt(n):\n",
    "  low = 1\n",
    "  high = n\n",
    "  iterations = 0\n",
    "  while low < high and iterations < 5000:\n",
    "    iterations += 1\n",
    "    mid = (low + high + 1) // 2\n",
    "    if mid * mid <= n:\n",
    "      low = mid\n",
    "    else:\n",
    "      high = mid - 1\n",
    "  return low\n",
    "\n",
    "def DecipherSmallDiff(ciphertext, modulo, exponent):  \n",
    "  # Insert code for the function DecipherSmallPrime(ciphertext, modulo, exponent) from Day 3's Assignment\n",
    "\n",
    "ciphertext = 17250119573232938159495151836907345788113398812430175654066191733201327934519622049877939234487323106446778939262441322441499883118016470240906983286600405405975275723333283015774857915215814576298063848917112178624770247286048114974808099004729887688547429197942578127510912101233759373809217128865040107305284699411659572170044538767976158851028945020639377891878532187396172245359826784724912031113990729909962190626715090093246089745719249482899605241682396631713155172212615370473237731019162671529937751370463768746592055682933647328743947355593762481102849672215738899019205704001633289554719966\n",
    "modulo = 51719336593283668370261446912126485319255258778617224708410520647959236475322767644636584229070380964088870777607922268179572997129414217601241230215567764098337343256793524076040868978141016236299799031426456716364496058717536559180352016088612210860181989844954906788705998058534134464446292058222426189127398972577715363401457729737792004774929189832678271680193791993183578966529414824171500027009334274604018078392873654591487139190491950796770048687394408709037045383279375259210879772320878973829171531428762995383292175994184457145115155299673171196041635346062296031613203020122378411630001719\n",
    "exponent = 2370692877507893030572035746060036014373915956107619689350920177346027898716147057536168003507966056257828756067470679338655825857154534154205294932307\n",
    "decrypt_fourth_puzzle = DecipherSmallDiff(ciphertext, modulo, exponent)\n",
    "print(decrypt_fourth_puzzle)"
   ]
  },
  {
   "cell_type": "markdown",
   "metadata": {},
   "source": [
    "Now you have both parts of the second link. To get the link, just launch the next part of the notebook. Then follow the link to get more instructions. Also, if you follow the correct link, you will get the answer to the second question of the following \"RSA Quest\"!"
   ]
  },
  {
   "cell_type": "code",
   "execution_count": null,
   "metadata": {},
   "outputs": [],
   "source": [
    "second_secret_link = decrypt_third_puzzle + decrypt_fourth_puzzle\n",
    "print(second_secret_link)"
   ]
  },
  {
   "cell_type": "markdown",
   "metadata": {},
   "source": [
    "Substitute the implementation of the function \"DecipherCommonDivisor\" below with your implementation from \"RSA Assignment\", question 6. Also, insert the corresponding values for the ciphertexts, modulos and exponents from the second secret document. Then launch to get the first and the second parts of **the final answer**."
   ]
  },
  {
   "cell_type": "code",
   "execution_count": null,
   "metadata": {},
   "outputs": [],
   "source": [
    "def GCD(a, b):\n",
    "  if b == 0:\n",
    "    return a\n",
    "  return GCD(b, a % b)\n",
    "\n",
    "def DecipherCommonDivisor(first_ciphertext, first_modulo, first_exponent, second_ciphertext, second_modulo, second_exponent):\n",
    "  # Insert code for the function DecipherCommonDivisor(first_ciphertext, first_modulo, first_exponent, second_ciphertext, second_modulo, second_exponent) from Day 3's Assignment\n",
    "\n",
    "first_ciphertext = \n",
    "first_modulo = \n",
    "first_exponent = \n",
    "second_ciphertext = \n",
    "second_modulo = \n",
    "second_exponent = \n",
    "\n",
    "decrypt_sixth_puzzle = DecipherCommonDivisor(first_ciphertext, first_modulo, first_exponent, second_ciphertext, second_modulo, second_exponent)\n",
    "print(decrypt_sixth_puzzle)"
   ]
  },
  {
   "cell_type": "markdown",
   "metadata": {},
   "source": [
    "Substitute the implementation of the function \"DecipherHastad\" below with your implementation from \"RSA Quiz\", question 7. Also, insert the values for the ciphertexts and modulos from the second secret document. Then launch to get the third - and the last - part of the final answer."
   ]
  },
  {
   "cell_type": "code",
   "execution_count": null,
   "metadata": {},
   "outputs": [],
   "source": [
    "def ChineseRemainderTheorem(n1, r1, n2, r2):\n",
    "  # Insert code for the function ChineseRemainderTheorem(n1, r1, n2, r2) from Day 1's Assignment\n",
    "\n",
    "def DecipherHastad(first_ciphertext, first_modulo, second_ciphertext, second_modulo):\n",
    "  # Insert code for the function DecipherHastad(first_ciphertext, first_modulo, second_ciphertext, second_modulo) from Day 3's Assignment\n",
    "\n",
    "first_ciphertext = \n",
    "first_modulo = \n",
    "second_ciphertext = \n",
    "second_modulo = \n",
    "\n",
    "decrypt_seventh_puzzle = DecipherHastad(first_ciphertext, first_modulo, second_ciphertext, second_modulo)\n",
    "print(decrypt_seventh_puzzle)"
   ]
  },
  {
   "cell_type": "markdown",
   "metadata": {},
   "source": [
    "Now just launch the next part to get **the final answer**, then copy and paste to submit it as the answer to \"RSA Quest\" in the Google Form for Assignment submission!"
   ]
  },
  {
   "cell_type": "code",
   "execution_count": null,
   "metadata": {},
   "outputs": [],
   "source": [
    "final_answer = decrypt_sixth_puzzle[0] + decrypt_sixth_puzzle[1] + decrypt_seventh_puzzle\n",
    "print(final_answer)"
   ]
  }
 ],
 "metadata": {
  "kernelspec": {
   "display_name": "Python 3",
   "language": "python",
   "name": "python3"
  },
  "language_info": {
   "codemirror_mode": {
    "name": "ipython",
    "version": 3
   },
   "file_extension": ".py",
   "mimetype": "text/x-python",
   "name": "python",
   "nbconvert_exporter": "python",
   "pygments_lexer": "ipython3",
   "version": "3.7.6"
  }
 },
 "nbformat": 4,
 "nbformat_minor": 4
}
