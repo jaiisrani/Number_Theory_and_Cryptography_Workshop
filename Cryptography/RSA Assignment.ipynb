{
 "cells": [
  {
   "cell_type": "markdown",
   "metadata": {},
   "source": [
    "# Assignment\n",
    "\n",
    "## Question 1\n",
    "\n",
    "Implement RSA encryption with the given public key modulo, exponentmodulo,exponent.\n",
    "\n",
    "You have access to the function PowMod(a, n, modulo) which computes $a^{n}$ mod *modulo* using the fast modular exponentiation algorithm from the previous module. You also have access to the function ConvertToInt(message) which converts a text message to an integer.\n",
    "\n",
    "You need to fix the implementation of the function Encrypt(message, modulo, exponent) to return the integer ciphertext according to RSA encryption algorithm."
   ]
  },
  {
   "cell_type": "code",
   "execution_count": null,
   "metadata": {},
   "outputs": [],
   "source": [
    "def ConvertToInt(message_str):\n",
    "  res = 0\n",
    "  for i in range(len(message_str)):\n",
    "    res = res * 256 + ord(message_str[i])\n",
    "  return res\n",
    "\n",
    "def PowMod(a, n, mod):\n",
    "    if n == 0:\n",
    "        return 1 % mod\n",
    "    elif n == 1:\n",
    "        return a % mod\n",
    "    else:\n",
    "        b = PowMod(a, n // 2, mod)\n",
    "        b = b * b % mod\n",
    "        if n % 2 == 0:\n",
    "          return b\n",
    "        else:\n",
    "          return b * a % mod"
   ]
  },
  {
   "cell_type": "code",
   "execution_count": null,
   "metadata": {},
   "outputs": [],
   "source": [
    "def Encrypt(message, modulo, exponent):\n",
    "  # Fix this implementation\n",
    "\n",
    "  return "
   ]
  },
  {
   "cell_type": "markdown",
   "metadata": {},
   "source": [
    "## Question 2\n",
    "\n",
    "Implement RSA decryption with the given private key $p$, $q$, exponent.\n",
    "\n",
    "You have access to the function ConvertToStr(m) which converts from integer $m$ to the plaintext message. You also have access to the function InvertModulo(a, n) which takes coprime integers $a$ and $n$ as inputs and returns integer $b$ such that $ab \\equiv 1 mod\\ n$. You also have access to the function PowMod(a, n, modulo) which computes $a^n$ mod *modulo* using fast modular exponentiation.\n",
    "\n",
    "You need to fix the implementation of the function Decrypt(ciphertext, p, q, exponent) to decrypt the message which was encrypted using the public key ($n = p \\cdot q$, $e$ = exponent)."
   ]
  },
  {
   "cell_type": "code",
   "execution_count": null,
   "metadata": {},
   "outputs": [],
   "source": [
    "def ConvertToStr(n):\n",
    "    res = \"\"\n",
    "    while n > 0:\n",
    "        res += chr(n % 256)\n",
    "        n //= 256\n",
    "    return res[::-1]\n",
    "\n",
    "def ExtendedEuclid(a, b):\n",
    "    if b == 0:\n",
    "        return (1, 0)\n",
    "    (x, y) = ExtendedEuclid(b, a % b)\n",
    "    k = a // b\n",
    "    return (y, x - k * y)\n",
    "\n",
    "def InvertModulo(a, n):\n",
    "    (b, x) = ExtendedEuclid(a, n)\n",
    "    if b < 0:\n",
    "        b = (b % n + n) % n\n",
    "    return b"
   ]
  },
  {
   "cell_type": "code",
   "execution_count": null,
   "metadata": {},
   "outputs": [],
   "source": [
    "def Decrypt(ciphertext, p, q, exponent):\n",
    "  # Insert code here\n",
    "  \n",
    "a = 3\n",
    "b = 7\n",
    "c = InvertModulo(a, b)\n",
    "print(c)\n",
    "\n",
    "p = 1000000007\n",
    "q = 1000000009\n",
    "exponent = 23917\n",
    "modulo = p * q\n",
    "ciphertext = Encrypt(\"attack\", modulo, exponent)\n",
    "message = Decrypt(ciphertext, p, q, exponent)\n",
    "print(message)"
   ]
  },
  {
   "cell_type": "markdown",
   "metadata": {},
   "source": [
    "## Question 3\n",
    "\n",
    "Secret agent Alice has sent one of the following messages to the center:\n",
    "\n",
    "1. attack\n",
    "2. don't attack\n",
    "3. wait\n",
    "\n",
    "Alice has ciphered her message using public key *modulo, exponent* that is available to you, and you have intercepted her ciphertext. You want to know what was the content of her message. You have access to the function Encrypt(message, modulo, exponent) which takes in a message as a string and returns a big integer as a ciphertext. It uses RSA encryption with public key *modulo, exponent*. In the starter code, you have an example usage of the function Encrypt.\n",
    "\n",
    "You also have function DecipherSimple(ciphertext, modulo, exponent, potential_messages) implemented in the starter code. You need to fix this implementation to solve the problem. It should take the ciphertext sent from Alice to the center, the public key modulo, exponent and the set of potential messages that Alice could have sent, and return the message that Alice encrypted and sent as a string. For example, if Alice took message \"wait\", encrypted it with the given modulo and exponent, and got number 139763215139763215 as the ciphertext, you will need to return the string \"wait\" given the ciphertext = 139763215, modulo, exponent and potential_messages = [\"attack\", \"don't attack\", \"wait\"]."
   ]
  },
  {
   "cell_type": "code",
   "execution_count": null,
   "metadata": {},
   "outputs": [],
   "source": [
    "def DecipherSimple(ciphertext, modulo, exponent, potential_messages):\n",
    "  # Fix this implementation\n",
    "\n",
    "  return \"don't know\"\n",
    "\n",
    "modulo = 101\n",
    "exponent = 12\n",
    "ciphertext = Encrypt(\"attack\", modulo, exponent)\n",
    "print(ciphertext)\n",
    "print(DecipherSimple(ciphertext, modulo, exponent, [\"attack\", \"don't attack\", \"wait\"]))"
   ]
  },
  {
   "cell_type": "markdown",
   "metadata": {},
   "source": [
    "## Question 4\n",
    "\n",
    "Alice is using RSA encryption with a public key modulo, exponent such that modulo = $p \\cdot q$ with one of the primes $p$ and $q$ being less than 1,000,000, and you know about it. You want to break the cipher and decrypt her message.\n",
    "\n",
    "You can use the function Decrypt(ciphertext, p, q, e) which decrypts the ciphertext given the private key $p$, $q$ and the public exponent $e$.\n",
    "\n",
    "You are also given the function DecipherSmallPrime(ciphertext, modulo, exponent), and you need to fix its implementation so that it can decipher the ciphertext in case when one of the prime factors of the public modulo is smaller than 1,000,000."
   ]
  },
  {
   "cell_type": "code",
   "execution_count": null,
   "metadata": {},
   "outputs": [],
   "source": [
    "def DecipherSmallPrime(ciphertext, modulo, exponent):\n",
    "  # Fix this implementation\n",
    "  return \"don't know\"\n",
    "  \n",
    "modulo = 101 * 18298970732541109011012304219376080251334480295537316123696052970419466495220522723330315111017831737980079504337868198011077274303193766040393009648852841770668239779097280026631944319501437547002412556176186750790476901358334138818777298389724049250700606462316428106882097210008142941838672676714188593227684360287806974345181893018133710957167334490627178666071809992955566020058374505477745993383434501768887090900283569055646901291270870833498474402084748161755197005050874785474707550376333429671113753137201128897550014524209754619355308207537703754006699795711188492048286436285518105948050401762394690148387\n",
    "exponent = 239\n",
    "ciphertext = Encrypt(\"attack\", modulo, exponent)\n",
    "print(ciphertext)\n",
    "print(DecipherSmallPrime(ciphertext, modulo, exponent))"
   ]
  },
  {
   "cell_type": "markdown",
   "metadata": {},
   "source": [
    "## Question 5\n",
    "\n",
    "Alice is using RSA encryption with a public key modulo, exponent such that modulo = $p \\cdot q$ with |$p$ - $q$| < 5000, and you know about it. You want to break the cipher and decrypt her message.\n",
    "\n",
    "You have access to the function Decrypt(ciphertext, p, q, e) which decrypts the ciphertext given the private key $p$, $q$ and the public exponent $e$. You also have access to the function IntSqrt(n) which takes integer $n$ and returns the largest integer $x$ such that $x^2 \\leq n$.\n",
    "\n",
    "You are also given the function DecipherSmallDiff(ciphertext, modulo, exponent), and you need to fix its implementation so that it can decipher the ciphertext in case when the difference beteween prime factors of the public modulo is smaller than 5000."
   ]
  },
  {
   "cell_type": "code",
   "execution_count": null,
   "metadata": {},
   "outputs": [],
   "source": [
    "def DecipherSmallDiff(ciphertext, modulo, exponent):\n",
    "  sqrtn = IntSqrt(modulo)\n",
    "  # Fix this implementation\n",
    "  \n",
    "p = 1000000007\n",
    "q = 1000000009\n",
    "n = p * q\n",
    "e = 239\n",
    "ciphertext = Encrypt(\"attack\", n, e)\n",
    "message = DecipherSmallDiff(ciphertext, n, e)\n",
    "print(ciphertext)\n",
    "print(message)"
   ]
  },
  {
   "cell_type": "markdown",
   "metadata": {},
   "source": [
    "## Question 6\n",
    "\n",
    "You've discovered that the first prime number $p$ for the private key was generated with the same algorithm and the same random seed by two different senders Alice and Angelina due to insufficient randomness, while the second prime $q$ is different for those two private keys. You want to break both ciphers and decipher messages from both Alice and Angelina.\n",
    "\n",
    "You are given the function Decrypt(ciphertext, p, q, e) which decrypts the ciphertext given the private key $p$, $q$ and the public exponent $e$.\n",
    "\n",
    "You are also given the function DecipherCommonDivisor(first_ciphertext, first_modulo, first_exponent, second_ciphertext, second_modulo, second_exponent).\n",
    "\n",
    "You need to fix its implementation so that it can decipher both the first_ciphertext and second_ciphertext in the case when first_modulo and the second_modulo share a prime factor."
   ]
  },
  {
   "cell_type": "code",
   "execution_count": null,
   "metadata": {},
   "outputs": [],
   "source": [
    "def GCD(a, b):\n",
    "  if b == 0:\n",
    "    return a\n",
    "  return GCD(b, a % b)\n",
    "  \n",
    "def DecipherCommonDivisor(first_ciphertext, first_modulo, first_exponent, second_ciphertext, second_modulo, second_exponent):\n",
    "  # Fix this implementation to correctly decipher both messages in case\n",
    "  # first_modulo and second_modulo share a prime factor, and return\n",
    "  # a pair (first_message, second_message). The implementation below won't work\n",
    "  # if the common_prime is bigger than 1000000.\n",
    "  \n",
    "  \n",
    "# Example usage with common prime p and different second primes q1 and q2  \n",
    "p = 101\n",
    "q1 = 18298970732541109011012304219376080251334480295537316123696052970419466495220522723330315111017831737980079504337868198011077274303193766040393009648852841770668239779097280026631944319501437547002412556176186750790476901358334138818777298389724049250700606462316428106882097210008142941838672676714188593227684360287806974345181893018133710957167334490627178666071809992955566020058374505477745993383434501768887090900283569055646901291270870833498474402084748161755197005050874785474707550376333429671113753137201128897550014524209754619355308207537703754006699795711188492048286436285518105948050401762394690148387\n",
    "q2 = 1000000007\n",
    "first_modulo = p * q1\n",
    "second_modulo = p * q2\n",
    "first_exponent = 239\n",
    "second_exponent = 17\n",
    "first_ciphertext = Encrypt(\"attack\", first_modulo, first_exponent)\n",
    "second_ciphertext = Encrypt(\"wait\", second_modulo, second_exponent)\n",
    "print(DecipherCommonDivisor(first_ciphertext, first_modulo, first_exponent, second_ciphertext, second_modulo, second_exponent))"
   ]
  },
  {
   "cell_type": "markdown",
   "metadata": {},
   "source": [
    "## Question 7\n",
    "\n",
    "Bob has sent the same message to Alice and Angelina using two different public keys (n_1, e = 2) and (n_2, e = 2) with the same exponent $e = 2$. Implement the Hastad's broadcast attack to decipher the message using the intercepted ciphertexts first_ciphertext and second_ciphertext.\n",
    "\n",
    "You have access to the function ConvertToStr(m) which converts an integer to a plaintext message. You also have access to the function ChineseRemainderTheorem($n_1, r_1, n_2, r_2$). You also have access to the function IntSqrt(n)IntSqrt(n) which takes an integer $n$ and returns the largest integer $x$ such that $x^2 \\leq n$.\n",
    "\n",
    "Fix the implementation of the function DecipherHastad(first_ciphertext, first_modulo, second_ciphertext, second_modulo) to return the message that Bob has encrypted and sent"
   ]
  },
  {
   "cell_type": "code",
   "execution_count": null,
   "metadata": {},
   "outputs": [],
   "source": [
    "def DecipherHastad(first_ciphertext, first_modulo, second_ciphertext, second_modulo):\n",
    "  # Fix this implementation\n",
    "  return ConvertToStr(m)\n",
    "  \n",
    "\n",
    "p1 = 790383132652258876190399065097\n",
    "q1 = 662503581792812531719955475509\n",
    "p2 = 656917682542437675078478868539\n",
    "q2 = 1263581691331332127259083713503\n",
    "n1 = p1 * q1\n",
    "n2 = p2 * q2\n",
    "ciphertext1 = Encrypt(\"attack\", n1, 2)\n",
    "ciphertext2 = Encrypt(\"attack\", n2, 2)\n",
    "message = DecipherHastad(ciphertext1, n1, ciphertext2, n2)\n",
    "print(message)"
   ]
  }
 ],
 "metadata": {
  "kernelspec": {
   "display_name": "Python 3",
   "language": "python",
   "name": "python3"
  },
  "language_info": {
   "codemirror_mode": {
    "name": "ipython",
    "version": 3
   },
   "file_extension": ".py",
   "mimetype": "text/x-python",
   "name": "python",
   "nbconvert_exporter": "python",
   "pygments_lexer": "ipython3",
   "version": "3.7.6"
  }
 },
 "nbformat": 4,
 "nbformat_minor": 4
}
