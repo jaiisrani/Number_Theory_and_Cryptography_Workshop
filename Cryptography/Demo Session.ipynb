{
 "cells": [
  {
   "cell_type": "markdown",
   "metadata": {},
   "source": [
    "# Diffie-Hellman Key Exchange\n",
    "\n",
    "You have already seen what are multiplicative group of integers (mod N) or the (mod N) group on Day 2\n",
    "\n",
    "$N = 5$\n",
    "\n",
    "Number of elements in the group, *aka* its **order** = 4\n",
    "\n",
    "On one hand,\n",
    "\n",
    "$$1^1\\ mod\\ 5 = 1^2\\ mod\\ 5 = 1^3\\ mod\\ 5 = ... \\equiv 1\\ mod\\ 5 \\Rightarrow Period = 1$$\n",
    "$$4^1\\ mod\\ 5 = 4^3\\ mod\\ 5 = ... \\equiv 4\\ mod\\ 5\\ \\ \\ \\ \\ \\ 4^2\\ mod\\ 5 = 4^4\\ mod\\ 5 = ... \\equiv 1\\ mod\\ 5 \\Rightarrow Period = 2$$\n",
    "\n",
    "As long as $x$ and $N$ in $x^1\\ (mod\\ N), x^2\\ (mod\\ N), x^3\\ (mod\\ N),...$ are relatively prime, they will have the periodic property\n",
    "\n",
    "On the other hand,\n",
    "\n",
    "$$2^1\\ mod\\ 5 \\equiv 2\\ mod\\ 5\\ \\ \\ \\ \\ \\ 3^1\\ mod\\ 5 \\equiv 3\\ mod\\ 5$$\n",
    "$$2^2\\ mod\\ 5 \\equiv 4\\ mod\\ 5\\ \\ \\ \\ \\ \\ 3^2\\ mod\\ 5 \\equiv 4\\ mod\\ 5$$\n",
    "$$2^3\\ mod\\ 5 \\equiv 3\\ mod\\ 5\\ \\ \\ \\ \\ \\ 3^3\\ mod\\ 5 \\equiv 2\\ mod\\ 5$$\n",
    "$$2^4\\ mod\\ 5 \\equiv 1\\ mod\\ 5\\ \\ \\ \\ \\ \\ 3^4\\ mod\\ 5 \\equiv 1\\ mod\\ 5$$\n",
    "\n",
    "Both have a $Period = 4$. Moreover, *en route* to a value 1, the (mod 5) powers of 2 and 3, each cycle through all the coprimes of 5. Elements of the group whose powers cycle through the whole group are called **primitive roots** (mod N), or alternatively, **generators** of the (mod N) group\n",
    "\n",
    "2 and 3 are primitive roots (mod 5). And groups that have atleast one generator are called **cyclic**\n",
    "\n",
    "A note: If the period of $x\\ (mod\\ N)$ is some number $r$, then $r$ is the smallest number such that $x^r \\equiv 1\\ (mod\\ N)$"
   ]
  },
  {
   "cell_type": "markdown",
   "metadata": {},
   "source": [
    "*Which (mod N) groups end up being cyclic?*\n",
    "\n",
    "$$N = 2\\ \\ \\ \\ N = 4\\ \\ \\ \\ N = power\\ of\\ an\\ odd\\ prime\\ \\ \\ \\ N = twice\\ the\\ power\\ of\\ an\\ odd\\ prime$$"
   ]
  },
  {
   "cell_type": "markdown",
   "metadata": {},
   "source": [
    "## Diffie-Hellman Protocol\n",
    "\n",
    "***Step 1:*** In full view of Eve, Alice and Bob will agree on two things:\n",
    "1. A modulus $N$\n",
    "2. A generator $g$ of that group\n",
    "\n",
    "Say they pick $N = 11$ and $g = 7$ for the sake of illustration\n",
    "\n",
    "***Step 2:*** Alice and Bob each pick one number, at random, from the group that they won't reveal, even to each other. \n",
    "\n",
    "Let's say Alice picks $a = 2$ and Bob picks $b = 4$\n",
    "\n",
    "***Step 3:*** Alice and Bob compute $g^a\\ (mod\\ N)$ and $g^b\\ (mod\\ N)$ respectively and transmit to each other\n",
    "\n",
    "$$g^a\\ (mod\\ N) = 7^2\\ (mod\\ 11) = 5 = A$$\n",
    "$$g^b\\ (mod\\ N) = 7^4\\ (mod\\ 11) = 3 = B$$\n",
    "\n",
    "***Step 4:*** Alice and Bob each raise the others publicly transmitted ($A = 5$ and $B = 3$) to the power of their own private number (mod N)\n",
    "\n",
    "$$B^a\\ (mod\\ N) = 3^2\\ (mod\\ 11) \\equiv 9\\ (mod\\ 11) \\equiv 5^4\\ (mod\\ 11) = A^b\\ (mod\\ N)$$"
   ]
  },
  {
   "cell_type": "code",
   "execution_count": 21,
   "metadata": {},
   "outputs": [],
   "source": [
    "N = 11    # Modulus\n",
    "g = 7     # Generator\n",
    "\n",
    "a = 2     # Alice's private key (from the multiplicative group (mod 11))\n",
    "b = 4     # Bob's private key (from the same multiplicative group (mod 11))"
   ]
  },
  {
   "cell_type": "code",
   "execution_count": 22,
   "metadata": {},
   "outputs": [
    {
     "name": "stdout",
     "output_type": "stream",
     "text": [
      "The shared synthesized key is 9\n"
     ]
    }
   ],
   "source": [
    "A = ((g**a) % N)    # Alice's transmitted value\n",
    "B = ((g**b) % N)    # Bob's transmitted value\n",
    "\n",
    "# To obtain the shared synthesized key\n",
    "k1 = ((A**b) % N)\n",
    "k2 = ((B**a) % N)\n",
    "\n",
    "if (k1 == k2):\n",
    "    print(\"The shared synthesized key is \" + str(k1))\n",
    "else:\n",
    "    print(\"Check if the generator is valid\")"
   ]
  },
  {
   "cell_type": "markdown",
   "metadata": {},
   "source": [
    "**Why does it work?**\n",
    "\n",
    "$$A^b\\ (mod\\ N) = (g^a)^b\\ (mod\\ N) = (g^b)^a\\ (mod\\ N) = B^a\\ (mod\\ N)$$\n",
    "\n",
    "Given $g$, $a$ and $N$, it is easy to compute $A = g^a\\ (mod\\ N)$ but given the result $A$, it is hard undo\n",
    "\n",
    "More generally, when the *modulus* and the *exponents* are enormous, computers can still do the *modular exponentiation* extremely quickly. But there simply is no fast way to *undo modular exponentiation*. That inverse problem is called the **Discrete Logarithm Problem**"
   ]
  },
  {
   "cell_type": "markdown",
   "metadata": {},
   "source": [
    "# The RSA Encryption Algorithm\n",
    "\n",
    "Pick 2 random primes $p$ and $q$\n",
    "\n",
    "Let $p = 5$ and $q = 11$\n",
    "\n",
    "Calculate $N$ as the product of the two primes $N = p \\cdot q = 55$\n",
    "\n",
    "From the first day of the workshop, *Euler Totient Function* of N: $\\phi(N) = (p-1)(q-1) = 40$\n",
    "\n",
    "Pick another random integer $e$ such that $e < \\phi(N)$, and $e$ and $\\phi(N)$ are coprime to each other. \n",
    "\n",
    "Generate a number $d$ from $p$, $q$ and $e$ such that $e \\cdot d \\equiv 1\\ (mod\\ \\phi(N))$ and $d < \\phi(N)$ through the Extended Euclidean Algorithm from Day 1. There is a unique such $d < \\phi(N)$ \n",
    "\n",
    "You could use the following relation $d = \\frac{k\\phi(N) + 1}{e}$ where $d$ is obtained for the smallest $k$ where the numerator is divisible by $e$"
   ]
  },
  {
   "cell_type": "markdown",
   "metadata": {},
   "source": [
    "Let $e = 7$ and $d = 23$\n",
    "\n",
    "Here, $e$ is called the *encryption key* and $d$ is called the *decryption key*. Set $(e,N)$ as the public key and keep $d$ as the private key. Remember, $d$ is hard to calculate even though $(e,N)$ are public information\n",
    "\n",
    "When someone tries to send us a message $M$, they perform the following operation: $M^e\\ (mod\\ N) = c$ and send the resultant value through the open communication channel.\n",
    "\n",
    "To decrypt this message, just perform: $c^d\\ (mod N) = M$ and obtain $M$, the intended message"
   ]
  },
  {
   "cell_type": "code",
   "execution_count": 56,
   "metadata": {},
   "outputs": [
    {
     "name": "stdout",
     "output_type": "stream",
     "text": [
      "Given p and q are prime\n",
      "Given (e,d) pair is valid\n",
      "\n",
      "Plaintext: 2\n",
      "Ciphertext: 18\n"
     ]
    }
   ],
   "source": [
    "import math\n",
    "\n",
    "def CheckIfPrime(a,b):    # To check if the given p and q are primes\n",
    "    n = int(math.sqrt(a))\n",
    "    m = int(math.sqrt(b))\n",
    "    for i in range(2,n):\n",
    "        if (a % i == 0):\n",
    "            print(\"Try again by using a prime number for p\")\n",
    "            return\n",
    "    for i in range(2,m):\n",
    "        if (b % i == 0):\n",
    "            print(\"Try again by using a prime number for q\")\n",
    "            return\n",
    "    print(\"Given p and q are prime\")\n",
    "    return\n",
    "\n",
    "def CheckKeyInverse(e,d,phiN):\n",
    "    if ((e*d) % phiN == 1):\n",
    "        print(\"Given (e,d) pair is valid\")\n",
    "    else:\n",
    "        print(\"Try again by using a valid (e,d) pair\")\n",
    "    return\n",
    "\n",
    "def Encrypt(e,N,p):\n",
    "    c = ((p**e) % N)\n",
    "    return c\n",
    "\n",
    "p = 5    # 'Large' Prime 1\n",
    "q = 11   # 'Large' Prime 2\n",
    "CheckIfPrime(p,q)\n",
    "N = p*q  # Product of Primes\n",
    "phiN = (p-1)*(q-1)\n",
    "\n",
    "e = 7    # Encryption key\n",
    "d = 23   # Decryption key\n",
    "CheckKeyInverse(e,d,phiN)\n",
    "\n",
    "print()    # Print a blank line\n",
    "\n",
    "# For the sake of demonstration, try using only small values of M here (M<N). You can explore further in the Assignment Notebooks\n",
    "M = 2    # Message intended to communicate\n",
    "\n",
    "plaintext = M\n",
    "print(\"Plaintext: \" + str(plaintext))\n",
    "ciphertext = Encrypt(e,N,plaintext)\n",
    "print(\"Ciphertext: \" + str(ciphertext))"
   ]
  },
  {
   "cell_type": "code",
   "execution_count": 57,
   "metadata": {},
   "outputs": [
    {
     "name": "stdout",
     "output_type": "stream",
     "text": [
      "Decryptedtext: 2\n"
     ]
    }
   ],
   "source": [
    "def Decrypt(d, N, c):\n",
    "    p = ((c**d) % N)\n",
    "    return p\n",
    "\n",
    "decryptedtext = Decrypt(d,N,ciphertext)\n",
    "print(\"Decryptedtext: \" + str(decryptedtext))"
   ]
  },
  {
   "cell_type": "markdown",
   "metadata": {},
   "source": [
    "**Why does it work?**\n",
    "\n",
    "Message $M$\n",
    "\n",
    "Public Key $(e,N)$\n",
    "\n",
    "To encrypt it\n",
    "\n",
    "Ciphertext $c = M^e\\ (mod\\ N)$\n",
    "\n",
    "They send this ciphertext via an open channel to you\n",
    "\n",
    "To decrypt it\n",
    "\n",
    "plaintext $p = c^d\\ (mod\\ N) = (M^e)^d\\ (mod\\ N) = M^{ed}\\ (mod\\ N)$\n",
    "\n",
    "Given $e\\cdot d \\equiv 1\\ (mod\\ N) \\Rightarrow ed - 1 = k\\cdot\\phi(N) \\Rightarrow ed = k\\phi(N) + 1$\n",
    "\n",
    "$\\Rightarrow M^{k\\phi(N) + 1} = M^{k\\phi(N)}\\cdot M^1$\n",
    "\n",
    "$\\Rightarrow p = (M^{\\phi(N)})^k \\cdot M^1\\ (mod\\ N)$\n",
    "\n",
    "From *Euler's Totient Theorem*, $a^{\\phi(N)} \\equiv 1\\ (mod\\ N)$ when $a$ and $N$ are coprime\n",
    "\n",
    "$\\Rightarrow p = 1 \\cdot M^1\\ (mod\\ N) = M$"
   ]
  },
  {
   "cell_type": "markdown",
   "metadata": {},
   "source": [
    "# Shor's Algorithm\n",
    "\n",
    "Let's take the number $N$ which is a product of two primes $p$ and $q$ but now assume that you don't know anything about those primes and your job is to find them. Then here's how you will do it:\n",
    "\n",
    "***Step 1:*** Pick any number smaller than $N$. Let's call the number you selected $a$. Check to make sure that $a$ and $N$ are relatively prime through the Euclidean Algorithm. \n",
    "\n",
    "***Step 2:*** Compute the period, $r$, of $a\\ (mod\\ N)$.\n",
    "\n",
    "For the sake of an example, let's say you're trying to find the factors of 35. So $N = 35$ and you pick $a = 8$ since it is relatively prime to 35. Then, with a little computation, we can see that $r = 4$.\n",
    "\n",
    "Check if $r$ is even and $(a^{r/2} + 1) \\ncong 0\\ (mod\\ N)$. If either of these things fail, we need to go back to *Step 1* and pick a new value of $a$.\n",
    "\n",
    "Probablistically, there's at least a 50% chance, you'll pick a good value of $a$. So, on average, you won't have to try too many times.\n",
    "\n",
    "***Step 3:*** Some algebra\n",
    "$$a^r \\equiv 1\\ (mod\\ N)$$\n",
    "$$a^r - 1 \\equiv 0\\ (mod\\ N)$$\n",
    "Saying that something is 0 (mod N) is the same as saying that it's a multiple of $N$. So there must exist some integer $k$ such that \n",
    "$$a^r - 1 = k\\cdot N$$\n",
    "Since we assumed $r$ is an even number\n",
    "$$(a^{r/2} - 1)(a^{r/2} + 1) = kN = kpq$$\n",
    "\n",
    "For the example, where we are trying to find the factors of 35. Since the period of 8 (mod 35) is 4, we have $$8^4 \\equiv 1\\ (mod\\ 35)$$\n",
    "So $$8^4 - 1 = 4096 - 1 = 4095 \\equiv 0\\ (mod\\ 35)$$\n",
    "$$\\Rightarrow 8^4 - 1 = k\\cdot 35$$\n",
    "for some $k$. Again, we could solve for $k$ in this case, but it's irrelevant, so I'll leave it as a variable. \n",
    "Rewrite this as\n",
    "$$(8^2 - 1)(8^2 + 1) = kpq$$\n",
    "where $p$ and $q$ are the prime factors of 35, that we are searching for\n",
    "\n",
    "***Step 4:*** The greatest common divisor of $a^{r/2} - 1$ and $N$ is one of the prime factors\n",
    "$$p = gcd(a^{r/2} - 1, N)$$\n",
    "and similarly\n",
    "$$q = gcd(a^{r/2} + 1, N)$$\n",
    "\n",
    "**Why?** The equation $(a^{r/2} - 1)(a^{r/2} + 1) = kpq$ means that $p$ must divide one of the factors on the left and $q$ must divide one of the factors on the left. But, they can not divide the same factor, since that factor would be divisible by $N$. \n",
    "\n",
    "**Why is neither factor divisible by N?** For one, we assumed $a^{r/2} + 1 \\ncong 0\\ (mod\\ N)$. For the other, we know $r$ is the minimum value of $x$ such that $a^x \\equiv 1\\ (mod\\ N)$. So $a^{r/2} - 1 \\ncong 0\\ (mod\\ N)$. \n",
    "\n",
    "Since $p$ and $q$ divide separate factors on the left side of the equation, we can assume $p$ divides $(a^\\frac{r}{2} - 1)$ and $q$ divides $(a^\\frac{r}{2} + 1)$. So, our formulas work. \n",
    "So, in our example, $p = gcd(63,35) = 7$ and $q = gcd(65,35) = 5$, and they are correct. "
   ]
  }
 ],
 "metadata": {
  "kernelspec": {
   "display_name": "Python 3",
   "language": "python",
   "name": "python3"
  },
  "language_info": {
   "codemirror_mode": {
    "name": "ipython",
    "version": 3
   },
   "file_extension": ".py",
   "mimetype": "text/x-python",
   "name": "python",
   "nbconvert_exporter": "python",
   "pygments_lexer": "ipython3",
   "version": "3.7.6"
  }
 },
 "nbformat": 4,
 "nbformat_minor": 4
}
